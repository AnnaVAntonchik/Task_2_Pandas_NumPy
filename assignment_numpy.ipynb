{
 "cells": [
  {
   "cell_type": "markdown",
   "id": "d3df79dd",
   "metadata": {},
   "source": [
    "## Упражнения по библиотеке Numpy"
   ]
  },
  {
   "cell_type": "code",
   "execution_count": 29,
   "id": "76b9c43b",
   "metadata": {},
   "outputs": [],
   "source": [
    "import numpy as np"
   ]
  },
  {
   "cell_type": "markdown",
   "id": "03727b7c",
   "metadata": {},
   "source": [
    "**1.** Дан случайный массив, поменять знак у элементов, значения которых между 3 и 8"
   ]
  },
  {
   "cell_type": "code",
   "execution_count": 43,
   "id": "0408d7f9-e2b4-4c45-ad8e-ac0a892a2a71",
   "metadata": {},
   "outputs": [
    {
     "name": "stdout",
     "output_type": "stream",
     "text": [
      "Initial matrix\n",
      "[[-10   1  -1   6]\n",
      " [ -6  -1   7  -3]]\n",
      "Result matrix\n",
      "[[-10   1  -1  -6]\n",
      " [ -6  -1  -7  -3]]\n"
     ]
    }
   ],
   "source": [
    "def change_sign(rand_arr):\n",
    "    mask = (rand_arr >= 3) & (rand_arr <= 8)\n",
    "    rand_arr[mask] *= -1\n",
    "    return rand_arr\n",
    "\n",
    "random_array = np.random.randint(low=-10, high=10, size=(np.random.randint(1,10), np.random.randint(1,10)))\n",
    "print('Initial matrix')\n",
    "print(random_array)\n",
    "print('Result matrix')\n",
    "print(change_sign(random_array))"
   ]
  },
  {
   "cell_type": "markdown",
   "id": "5fa4abda",
   "metadata": {},
   "source": [
    "**2.** Заменить максимальный элемент случайного массива на 0"
   ]
  },
  {
   "cell_type": "code",
   "execution_count": 60,
   "id": "f2788a6e",
   "metadata": {},
   "outputs": [
    {
     "name": "stdout",
     "output_type": "stream",
     "text": [
      "Initial matrix\n",
      "[[ 8  4  0  8  1 -6 -9]\n",
      " [-4 -2 -2  6  0 -4 -8]\n",
      " [ 4 -5 -8 -1 -3 -1 -6]]\n",
      "Result matrix\n",
      "[[ 0  4  0  0  1 -6 -9]\n",
      " [-4 -2 -2  6  0 -4 -8]\n",
      " [ 4 -5 -8 -1 -3 -1 -6]]\n"
     ]
    }
   ],
   "source": [
    "def change_max_el(rand_arr):\n",
    "    mask = rand_arr == np.max(rand_arr)\n",
    "    rand_arr[mask] = 0\n",
    "    return rand_arr\n",
    "\n",
    "random_array = np.random.randint(low=-10, high=10, size=(np.random.randint(1,10), np.random.randint(1,10)))\n",
    "print('Initial matrix')\n",
    "print(random_array)\n",
    "print('Result matrix')\n",
    "print(change_max_el(random_array))"
   ]
  },
  {
   "cell_type": "markdown",
   "id": "3cac656b",
   "metadata": {},
   "source": [
    "**3.** Построить прямое произведение массивов (все комбинации с каждым элементом). На вход подается двумерный массив"
   ]
  },
  {
   "cell_type": "code",
   "execution_count": 66,
   "id": "3396b764",
   "metadata": {},
   "outputs": [
    {
     "name": "stdout",
     "output_type": "stream",
     "text": [
      "[[ -4   3 -10   8   8  -6]\n",
      " [ -8   9   3   9   0  -3]]\n",
      "[[ 32 -36 -12 -36   0  12]\n",
      " [-24  27   9  27   0  -9]\n",
      " [ 80 -90 -30 -90   0  30]\n",
      " [-64  72  24  72   0 -24]\n",
      " [-64  72  24  72   0 -24]\n",
      " [ 48 -54 -18 -54   0  18]]\n"
     ]
    }
   ],
   "source": [
    "random_array = np.random.randint(low=-10, high=10, size=(2, np.random.randint(1,10)))\n",
    "res_array = np.outer(random_array[0, :], random_array[1, :])\n",
    "print('Initial matrix')\n",
    "print(random_array)\n",
    "print('Result matrix')\n",
    "print(res_array)"
   ]
  },
  {
   "cell_type": "markdown",
   "id": "674c9354",
   "metadata": {},
   "source": [
    "**4.** Даны 2 массива A (8x3) и B (2x2). Найти строки в A, которые содержат элементы из каждой строки в B, независимо от порядка элементов в B"
   ]
  },
  {
   "cell_type": "code",
   "execution_count": 129,
   "id": "cb664782",
   "metadata": {},
   "outputs": [
    {
     "name": "stdout",
     "output_type": "stream",
     "text": [
      "Initial matrix A\n",
      "[[4 1 3]\n",
      " [5 4 1]\n",
      " [5 0 8]\n",
      " [0 3 6]\n",
      " [3 9 6]\n",
      " [3 0 9]\n",
      " [2 5 0]\n",
      " [4 7 3]]\n",
      "Initial matrix B\n",
      "[[5 8]\n",
      " [6 0]]\n",
      "Result(list of rows, first row = 1): [3, 7]\n"
     ]
    }
   ],
   "source": [
    "def is_in(a, b):\n",
    "    result_rows = []\n",
    "    for row in range(len(a)):\n",
    "        if np.any(np.isin(b[0], a[row])) and np.any(np.isin(b[1], a[row])):\n",
    "            result_rows.append(row + 1)\n",
    "    return result_rows\n",
    "\n",
    "random_array_a = np.random.randint(low=0, high=10, size=(8, 3))\n",
    "random_array_b = np.random.randint(low=0, high=10, size=(2, 2))\n",
    "print('Initial matrix A')\n",
    "print(random_array_a)\n",
    "print('Initial matrix B')\n",
    "print(random_array_b)\n",
    "print(f'Result(list of rows, first row = 1): {is_in(random_array_a, random_array_b)}')"
   ]
  },
  {
   "cell_type": "markdown",
   "id": "fa46533b",
   "metadata": {},
   "source": [
    "**5.** Дана 10x3 матрица, найти строки из неравных значений (например строка [2,2,3] остается, строка [3,3,3] удаляется)"
   ]
  },
  {
   "cell_type": "code",
   "execution_count": 131,
   "id": "fa545b23",
   "metadata": {},
   "outputs": [
    {
     "name": "stdout",
     "output_type": "stream",
     "text": [
      "Initial matrix\n",
      "[[2 3 2]\n",
      " [3 3 3]\n",
      " [2 3 2]\n",
      " [2 2 2]\n",
      " [3 3 2]\n",
      " [3 2 2]\n",
      " [3 3 2]\n",
      " [2 2 2]\n",
      " [2 3 2]\n",
      " [3 1 1]]\n",
      "Result matrix\n",
      "[[2 3 2]\n",
      " [2 3 2]\n",
      " [3 3 2]\n",
      " [3 2 2]\n",
      " [3 3 2]\n",
      " [2 3 2]\n",
      " [3 1 1]]\n"
     ]
    }
   ],
   "source": [
    "random_array = np.random.choice(np.arange(4), size=(10, 3), p=[0.03, 0.03, 0.47, 0.47])\n",
    "res_array = random_array[~np.all(random_array[:, 1:] == random_array[:, :-1], axis=1)]\n",
    "print('Initial matrix')\n",
    "print(random_array)\n",
    "print('Result matrix')\n",
    "print(res_array)"
   ]
  },
  {
   "cell_type": "markdown",
   "id": "28f0d116",
   "metadata": {},
   "source": [
    "**6.** Дан двумерный массив. Удалить те строки, которые повторяются"
   ]
  },
  {
   "cell_type": "code",
   "execution_count": 194,
   "id": "83d2c0b7",
   "metadata": {},
   "outputs": [
    {
     "name": "stdout",
     "output_type": "stream",
     "text": [
      "Initial matrix\n",
      "[[3 2 3]\n",
      " [3 2 3]\n",
      " [2 2 2]\n",
      " [2 2 3]\n",
      " [2 3 3]\n",
      " [3 2 2]\n",
      " [3 2 3]\n",
      " [3 0 3]\n",
      " [2 3 3]\n",
      " [3 3 3]]\n",
      "Result matrix\n",
      "[[2 2 2]\n",
      " [2 2 3]\n",
      " [2 3 3]\n",
      " [3 0 3]\n",
      " [3 2 2]\n",
      " [3 2 3]\n",
      " [3 3 3]]\n"
     ]
    }
   ],
   "source": [
    "random_array = np.random.choice(np.arange(4), size=(10, 3), p=[0.03, 0.03, 0.47, 0.47])\n",
    "res_array = np.unique(random_array, axis=0)\n",
    "print('Initial matrix')\n",
    "print(random_array)\n",
    "print('Result matrix')\n",
    "print(res_array)"
   ]
  },
  {
   "cell_type": "markdown",
   "id": "6daa9e37",
   "metadata": {},
   "source": [
    "______\n",
    "______"
   ]
  },
  {
   "cell_type": "markdown",
   "id": "cfbfcaff",
   "metadata": {},
   "source": [
    "Для каждой из следующих задач (1-5) нужно привести 2 реализации – одна без использования numpy (cчитайте, что там, где на входе или выходе должны быть numpy array, будут просто списки), а вторая полностью векторизованная с использованием numpy (без использования питоновских циклов/map/list comprehension).\n",
    "\n",
    "\n",
    "__Замечание 1.__ Можно считать, что все указанные объекты непустые (к примеру, в __задаче 1__ на диагонали матрицы есть ненулевые элементы).\n",
    "\n",
    "__Замечание 2.__ Для большинства задач решение занимает не больше 1-2 строк."
   ]
  },
  {
   "cell_type": "markdown",
   "id": "673cac7f",
   "metadata": {},
   "source": [
    "___"
   ]
  },
  {
   "cell_type": "markdown",
   "id": "ca6f585e",
   "metadata": {},
   "source": [
    "* __Задача 1__: Подсчитать произведение ненулевых элементов на диагонали прямоугольной матрицы.  \n",
    " Например, для X = np.array([[1, 0, 1], [2, 0, 2], [3, 0, 3], [4, 4, 4]]) ответ 3."
   ]
  },
  {
   "cell_type": "code",
   "execution_count": 30,
   "id": "065862fc",
   "metadata": {},
   "outputs": [
    {
     "name": "stdout",
     "output_type": "stream",
     "text": [
      "Initial matrix\n",
      "[[9 9 1 7 7 9]\n",
      " [1 3 8 8 3 2]\n",
      " [1 9 9 5 7 7]\n",
      " [5 3 3 1 2 2]\n",
      " [0 0 0 7 8 1]\n",
      " [3 7 2 8 7 7]\n",
      " [3 9 0 0 8 5]\n",
      " [8 4 6 1 9 5]\n",
      " [1 9 0 0 0 1]]\n",
      "Result(product of diagonal not null elements): 13608\n"
     ]
    }
   ],
   "source": [
    "# realization with numpy\n",
    "def diagonal_product(matrix):\n",
    "    diagonal = np.diagonal(matrix)\n",
    "    mask = ~(diagonal == 0)\n",
    "    res = np.prod(diagonal[mask])\n",
    "    return res\n",
    "    \n",
    "random_array = np.random.randint(low=0, high=10, size=(np.random.randint(1, 10), np.random.randint(1,10)))\n",
    "print('Initial matrix')\n",
    "print(random_array)\n",
    "print(f'Result(product of diagonal not null elements): {diagonal_product(random_array)}')"
   ]
  },
  {
   "cell_type": "code",
   "execution_count": 31,
   "id": "f897a447-81e9-468a-b88e-1576155852e6",
   "metadata": {},
   "outputs": [
    {
     "name": "stdout",
     "output_type": "stream",
     "text": [
      "Initial matrix\n",
      "[2, 3, 2, 4, 1]\n",
      "[3, 2, 3, 2, 5]\n",
      "[2, 3, 2, 4, 1]\n",
      "Result(product of diagonal not null elements): 8\n"
     ]
    }
   ],
   "source": [
    "# realization without numpy\n",
    "from random import randint\n",
    "\n",
    "def diagonal_product(matrix):\n",
    "    res = 1\n",
    "    for row in range(len(matrix)):\n",
    "        for column in range(len(matrix[row])):\n",
    "            if row == column and matrix[row][column] != 0:\n",
    "                res *= matrix[row][column]\n",
    "    return res\n",
    "\n",
    "matrix = [[randint(0,5) for _ in range(5)] for _ in range(randint(1,10))]\n",
    "print('Initial matrix')\n",
    "print(*matrix, sep='\\n')\n",
    "print(f'Result(product of diagonal not null elements): {diagonal_product(matrix)}')\n",
    "            "
   ]
  },
  {
   "cell_type": "markdown",
   "id": "9fc51d41",
   "metadata": {},
   "source": [
    "* __Задача 2__: Даны два вектора x и y. Проверить, задают ли они одно и то же мультимножество.  \n",
    "  Например, для x = np.array([1, 2, 2, 4]), y = np.array([4, 2, 1, 2]) ответ True."
   ]
  },
  {
   "cell_type": "code",
   "execution_count": 94,
   "id": "a809e02f",
   "metadata": {},
   "outputs": [
    {
     "name": "stdout",
     "output_type": "stream",
     "text": [
      "Vector x = [5 6 3 3 8 7 7 1 8], Vector y = [4 8 9 9 7 1]\n",
      "Result(is same multiset): False\n"
     ]
    }
   ],
   "source": [
    "# realization with numpy\n",
    "def same_multiset(v_x, v_y):\n",
    "    sorted_x = np.sort(v_x)\n",
    "    sorted_y = np.sort(v_y)\n",
    "    res = (len(sorted_x) == len(sorted_y) and (np.all(np.equal(sorted_x, sorted_y))))\n",
    "    return res\n",
    "\n",
    "vector_x = np.random.randint(low=0, high=10, size=(np.random.randint(1,10))) \n",
    "vector_y = np.random.randint(low=0, high=10, size=(np.random.randint(1,10)))\n",
    "print(f'Vector x = {vector_x}, Vector y = {vector_y}')\n",
    "print(f'Result(is same multiset): {same_multiset(vector_x, vector_y)}')"
   ]
  },
  {
   "cell_type": "code",
   "execution_count": 66,
   "id": "b7885af8-ca05-4be3-af69-b9315db17d89",
   "metadata": {},
   "outputs": [
    {
     "name": "stdout",
     "output_type": "stream",
     "text": [
      "Vector x = [2, 0, 1, 5, 4, 5, 5, 4], Vector y = [2, 1, 5, 4, 5, 4, 5, 2]\n",
      "Result(is same multiset): False\n"
     ]
    }
   ],
   "source": [
    "# realization without numpy\n",
    "def same_multiset(v_x, v_y):\n",
    "    res = True\n",
    "    if len(set(v_x)) != len(set(v_x)):\n",
    "        res = False\n",
    "    else:\n",
    "        for i in set(v_x):\n",
    "            if v_x.count(i) != v_y.count(i):\n",
    "                res = False\n",
    "                break\n",
    "    return res\n",
    "\n",
    "vector_x = [randint(0,5) for _ in range(randint(1, 10))]\n",
    "vector_y = [randint(0,5) for _ in range(randint(1, 10))]\n",
    "print(f'Vector x = {vector_x}, Vector y = {vector_y}')\n",
    "print(f'Result(is same multiset): {same_multiset(vector_x, vector_y)}')"
   ]
  },
  {
   "cell_type": "markdown",
   "id": "b9c185c7",
   "metadata": {},
   "source": [
    "* __Задача 3__: Найти максимальный элемент в векторе x среди элементов, перед которыми стоит ноль. \n",
    " Например, для x = np.array([6, 2, 0, 3, 0, 0, 5, 7, 0]) ответ 5."
   ]
  },
  {
   "cell_type": "code",
   "execution_count": 137,
   "id": "b57df008",
   "metadata": {},
   "outputs": [
    {
     "name": "stdout",
     "output_type": "stream",
     "text": [
      "Initial matrix: [9 5]\n",
      "Result: -inf\n"
     ]
    }
   ],
   "source": [
    "# realization with numpy\n",
    "def max_el_after_0(matrix):\n",
    "    mask = np.roll(matrix == 0, 1)\n",
    "    res = np.max(matrix.astype(float), where=mask, initial=-np.inf)\n",
    "    return res\n",
    "    \n",
    "matrix = np.random.randint(low=0, high=10, size=(np.random.randint(2,10)))\n",
    "print(f'Initial matrix: {matrix}')\n",
    "print(f'Result: {max_el_after_0(matrix)}')"
   ]
  },
  {
   "cell_type": "code",
   "execution_count": 175,
   "id": "7ac0b055-082a-463a-b8df-431b2758219b",
   "metadata": {},
   "outputs": [
    {
     "name": "stdout",
     "output_type": "stream",
     "text": [
      "Initial matrix: [4, 0, 1]\n",
      "Result: 1\n"
     ]
    }
   ],
   "source": [
    "# realization without numpy\n",
    "def max_el_after_0(matrix):\n",
    "    el_list = []\n",
    "    for i in range(1, len(matrix)):\n",
    "        if matrix[i - 1] == 0:\n",
    "            el_list.append(matrix[i])\n",
    "    if len(el_list) == 0:\n",
    "        return 'No such elements'\n",
    "    return max(el_list)\n",
    "    \n",
    "matrix = [randint(0,5) for _ in range(randint(3,10))]\n",
    "print(f'Initial matrix: {matrix}')\n",
    "print(f'Result: {max_el_after_0(matrix)}')"
   ]
  },
  {
   "cell_type": "markdown",
   "id": "480be4ce",
   "metadata": {},
   "source": [
    "* __Задача 4__: Реализовать кодирование длин серий (Run-length encoding). Для некоторого вектора x необходимо вернуть кортеж из двух векторов одинаковой длины. Первый содержит числа, а второй - сколько раз их нужно повторить.  \n",
    " Например, для x = np.array([2, 2, 2, 3, 3, 3, 5]) ответ (np.array([2, 3, 5]), np.array([3, 3, 1]))."
   ]
  },
  {
   "cell_type": "code",
   "execution_count": 174,
   "id": "3c592124",
   "metadata": {},
   "outputs": [
    {
     "name": "stdout",
     "output_type": "stream",
     "text": [
      "Initial matrix: [7 8]\n",
      "Result: (array([7, 8]), array([1, 1], dtype=int64))\n"
     ]
    }
   ],
   "source": [
    "# realization with numpy\n",
    "matrix = np.random.randint(low=0, high=10, size=(np.random.randint(2,10)))\n",
    "print(f'Initial matrix: {matrix}')\n",
    "print(f'Result: {np.unique(matrix, return_counts=True)}')"
   ]
  },
  {
   "cell_type": "code",
   "execution_count": 236,
   "id": "adf8f1f4-8043-4b71-aa54-c810a88d38a3",
   "metadata": {},
   "outputs": [
    {
     "name": "stdout",
     "output_type": "stream",
     "text": [
      "Initial matrix: [5, 5, 3, 0, 5, 4, 2]\n",
      "Result: ([5, 3, 0, 4, 2], [3, 1, 1, 1, 1])\n"
     ]
    }
   ],
   "source": [
    "# realization without numpy\n",
    "def run_lenth_encoding(matrix):\n",
    "    res = {}\n",
    "    for i in matrix:\n",
    "        res[i] = res.get(i, 0) + 1\n",
    "    return list(res.keys()), list(res.values())\n",
    "\n",
    "matrix = [randint(0,5) for _ in range(randint(3,10))]\n",
    "print(f'Initial matrix: {matrix}')\n",
    "print(f'Result: {run_lenth_encoding(matrix)}')"
   ]
  },
  {
   "cell_type": "markdown",
   "id": "077532ec",
   "metadata": {},
   "source": [
    "* __Задача 5__: Даны две выборки объектов - X и Y. Вычислить матрицу евклидовых расстояний между объектами. Сравните с функцией scipy.spatial.distance.cdist по скорости работы."
   ]
  },
  {
   "cell_type": "code",
   "execution_count": 304,
   "id": "1e807797",
   "metadata": {},
   "outputs": [
    {
     "name": "stdout",
     "output_type": "stream",
     "text": [
      "Objects X: \n",
      "[[0 2]\n",
      " [7 7]\n",
      " [7 6]]\n",
      "Objects Y: \n",
      "[[4 7]\n",
      " [2 0]\n",
      " [4 2]]\n",
      "Result: \n",
      "[[6.40312424 2.82842712 4.        ]\n",
      " [3.         8.60232527 5.83095189]\n",
      " [3.16227766 7.81024968 5.        ]] \n",
      "Running time: 0.0000000000000000000000000\n"
     ]
    }
   ],
   "source": [
    "# realization with numpy\n",
    "from time import time \n",
    "def euclidean_distance(objects_x, objects_y):\n",
    "    distance = np.sqrt(np.sum((objects_x[:, np.newaxis]-objects_y) ** 2, axis=-1))\n",
    "    return distance\n",
    "\n",
    "objects_x = np.random.randint(low=0, high=10, size=(3, 2)) \n",
    "objects_y = np.random.randint(low=0, high=10, size=(3, 2))\n",
    "\n",
    "start_time = time()\n",
    "distances = euclidean_distance(objects_x, objects_y)\n",
    "end_time = time()\n",
    "running_time = (end_time - start_time) \n",
    "\n",
    "print(f'Objects X: \\n{objects_x}\\nObjects Y: \\n{objects_y}')\n",
    "print(f'Result: \\n{distances} \\nRunning time: {running_time:.25f}')"
   ]
  },
  {
   "cell_type": "code",
   "execution_count": 305,
   "id": "8a972fab-43d0-49db-b8e1-3b78c5c5a9d0",
   "metadata": {},
   "outputs": [
    {
     "name": "stdout",
     "output_type": "stream",
     "text": [
      "Objects X: [[0, 2], [7, 7], [7, 6]], Objects Y: [[4, 7], [2, 0], [4, 2]]\n",
      "Result: \n",
      "[[6.40312424 2.82842712 4.        ]\n",
      " [3.         8.60232527 5.83095189]\n",
      " [3.16227766 7.81024968 5.        ]] \n",
      "Running time: 0.0000000000000000000000000\n"
     ]
    }
   ],
   "source": [
    "# realization without numpy\n",
    "from scipy.spatial.distance import cdist\n",
    "\n",
    "objects_x = [list(i) for i in objects_x]\n",
    "objects_y = [list(i) for i in objects_y]\n",
    "\n",
    "start_time = time()\n",
    "distances = cdist(objects_x, objects_y, metric='euclidean')\n",
    "end_time = time()\n",
    "running_time = (end_time - start_time) \n",
    "\n",
    "print(f'Objects X: {objects_x}, Objects Y: {objects_y}')\n",
    "print(f'Result: \\n{distances} \\nRunning time: {running_time:.25f}')"
   ]
  },
  {
   "cell_type": "markdown",
   "id": "973e8064",
   "metadata": {},
   "source": [
    "_______\n",
    "________"
   ]
  },
  {
   "cell_type": "markdown",
   "id": "1104acb7",
   "metadata": {},
   "source": [
    "* #### __Задача 6__: CrunchieMunchies __*__\n",
    "\n",
    "Вы работаете в отделе маркетинга пищевой компании MyCrunch, которая разрабатывает новый вид вкусных, полезных злаков под названием **CrunchieMunchies**.\n",
    "\n",
    "Вы хотите продемонстрировать потребителям, насколько полезны ваши хлопья по сравнению с другими ведущими брендами, поэтому вы собрали данные о питании нескольких разных конкурентов.\n",
    "\n",
    "Ваша задача - использовать вычисления Numpy для анализа этих данных и доказать, что ваши **СrunchieMunchies** - самый здоровый выбор для потребителей.\n"
   ]
  },
  {
   "cell_type": "code",
   "execution_count": 254,
   "id": "10a77f8d",
   "metadata": {},
   "outputs": [],
   "source": [
    "import numpy as np"
   ]
  },
  {
   "cell_type": "markdown",
   "id": "ab87cb03",
   "metadata": {},
   "source": [
    "1. Просмотрите файл cereal.csv. Этот файл содержит количества калорий для различных марок хлопьев. Загрузите данные из файла и сохраните их как calorie_stats."
   ]
  },
  {
   "cell_type": "code",
   "execution_count": 258,
   "id": "9681ebf2",
   "metadata": {},
   "outputs": [
    {
     "data": {
      "text/plain": [
       "array([ 70., 120.,  70.,  50., 110., 110., 110., 130.,  90.,  90., 120.,\n",
       "       110., 120., 110., 110., 110., 100., 110., 110., 110., 100., 110.,\n",
       "       100., 100., 110., 110., 100., 120., 120., 110., 100., 110., 100.,\n",
       "       110., 120., 120., 110., 110., 110., 140., 110., 100., 110., 100.,\n",
       "       150., 150., 160., 100., 120., 140.,  90., 130., 120., 100.,  50.,\n",
       "        50., 100., 100., 120., 100.,  90., 110., 110.,  80.,  90.,  90.,\n",
       "       110., 110.,  90., 110., 140., 100., 110., 110., 100., 100., 110.])"
      ]
     },
     "execution_count": 258,
     "metadata": {},
     "output_type": "execute_result"
    }
   ],
   "source": [
    "calorie_stats = np.loadtxt(\"./data/cereal.csv\", delimiter=\",\")\n",
    "calorie_stats"
   ]
  },
  {
   "cell_type": "markdown",
   "id": "139cfbd8",
   "metadata": {},
   "source": [
    "2. В одной порции CrunchieMunchies содержится 60 калорий. Насколько выше среднее количество калорий у ваших конкурентов?\n",
    "\n",
    "Сохраните ответ в переменной average_calories и распечатайте переменную в терминале"
   ]
  },
  {
   "cell_type": "code",
   "execution_count": 260,
   "id": "7036d240",
   "metadata": {},
   "outputs": [
    {
     "data": {
      "text/plain": [
       "106.88311688311688"
      ]
     },
     "execution_count": 260,
     "metadata": {},
     "output_type": "execute_result"
    }
   ],
   "source": [
    "average_calories = np.average(calorie_stats)\n",
    "average_calories"
   ]
  },
  {
   "cell_type": "markdown",
   "id": "b2ddb4cd",
   "metadata": {},
   "source": [
    "3. Корректно ли среднее количество калорий отражает распределение набора данных? Давайте отсортируем данные и посмотрим.\n",
    "\n",
    "Отсортируйте данные и сохраните результат в переменной calorie_stats_sorted. Распечатайте отсортированную информацию"
   ]
  },
  {
   "cell_type": "code",
   "execution_count": 261,
   "id": "46eeb4ed",
   "metadata": {},
   "outputs": [
    {
     "data": {
      "text/plain": [
       "array([ 50.,  50.,  50.,  70.,  70.,  80.,  90.,  90.,  90.,  90.,  90.,\n",
       "        90.,  90., 100., 100., 100., 100., 100., 100., 100., 100., 100.,\n",
       "       100., 100., 100., 100., 100., 100., 100., 100., 110., 110., 110.,\n",
       "       110., 110., 110., 110., 110., 110., 110., 110., 110., 110., 110.,\n",
       "       110., 110., 110., 110., 110., 110., 110., 110., 110., 110., 110.,\n",
       "       110., 110., 110., 110., 120., 120., 120., 120., 120., 120., 120.,\n",
       "       120., 120., 120., 130., 130., 140., 140., 140., 150., 150., 160.])"
      ]
     },
     "execution_count": 261,
     "metadata": {},
     "output_type": "execute_result"
    }
   ],
   "source": [
    "calorie_stats_sorted = np.sort(calorie_stats)\n",
    "calorie_stats_sorted"
   ]
  },
  {
   "cell_type": "markdown",
   "id": "4dc74116",
   "metadata": {},
   "source": [
    "4. Похоже, что большинство значений выше среднего. Давайте посмотрим, является ли медиана наиболее корректным показателем набора данных.\n",
    "\n",
    "Вычислите медиану набора данных и сохраните свой ответ в median_calories. Выведите медиану, чтобы вы могли видеть, как она сравнивается со средним значением."
   ]
  },
  {
   "cell_type": "code",
   "execution_count": 262,
   "id": "b56627c3",
   "metadata": {},
   "outputs": [
    {
     "data": {
      "text/plain": [
       "110.0"
      ]
     },
     "execution_count": 262,
     "metadata": {},
     "output_type": "execute_result"
    }
   ],
   "source": [
    "median_calories = np.median(calorie_stats_sorted)\n",
    "median_calories"
   ]
  },
  {
   "cell_type": "markdown",
   "id": "a63ab72f",
   "metadata": {},
   "source": [
    "5. В то время как медиана показывает, что по крайней мере половина наших значений составляет более 100 калорий, было бы более впечатляюще показать, что значительная часть конкурентов имеет более высокое количество калорий, чем CrunchieMunchies.\n",
    "\n",
    "Рассчитайте различные процентили и распечатайте их, пока не найдете наименьший процентиль, превышающий 60 калорий. Сохраните это значение в переменной nth_percentile."
   ]
  },
  {
   "cell_type": "code",
   "execution_count": 281,
   "id": "fe80ce03",
   "metadata": {},
   "outputs": [
    {
     "data": {
      "text/plain": [
       "60.16"
      ]
     },
     "execution_count": 281,
     "metadata": {},
     "output_type": "execute_result"
    }
   ],
   "source": [
    "nth_percentile = 3.3\n",
    "np.percentile(calorie_stats_sorted, nth_percentile)"
   ]
  },
  {
   "cell_type": "markdown",
   "id": "a2a3c5aa",
   "metadata": {},
   "source": [
    "6. Хотя процентиль показывает нам, что у большинства конкурентов количество калорий намного выше, это неудобная концепция для использования в маркетинговых материалах.\n",
    "\n",
    "Вместо этого давайте подсчитаем процент хлопьев, в которых содержится более 60 калорий на порцию. Сохраните свой ответ в переменной more_calories и распечатайте его"
   ]
  },
  {
   "cell_type": "code",
   "execution_count": 283,
   "id": "ade0f6ea",
   "metadata": {},
   "outputs": [
    {
     "data": {
      "text/plain": [
       "96.7"
      ]
     },
     "execution_count": 283,
     "metadata": {},
     "output_type": "execute_result"
    }
   ],
   "source": [
    "more_calories = 100 - nth_percentile \n",
    "more_calories"
   ]
  },
  {
   "cell_type": "markdown",
   "id": "1735d65b",
   "metadata": {},
   "source": [
    "7. Это действительно высокий процент. Это будет очень полезно, когда мы будем продвигать CrunchieMunchies. Но один вопрос заключается в том, насколько велики различия в наборе данных? Можем ли мы сделать обобщение, что в большинстве злаков содержится около 100 калорий или разброс еще больше?\n",
    "\n",
    "Рассчитайте величину отклонения, найдя стандартное отклонение, Сохраните свой ответ в calorie_std и распечатайте на терминале. Как мы можем включить эту ценность в наш анализ?"
   ]
  },
  {
   "cell_type": "code",
   "execution_count": 284,
   "id": "85c8df1f",
   "metadata": {},
   "outputs": [
    {
     "data": {
      "text/plain": [
       "19.35718533390827"
      ]
     },
     "execution_count": 284,
     "metadata": {},
     "output_type": "execute_result"
    }
   ],
   "source": [
    "calorie_std = np.std(calorie_stats_sorted)\n",
    "calorie_std"
   ]
  },
  {
   "cell_type": "markdown",
   "id": "037455c5",
   "metadata": {},
   "source": [
    "8. Напишите короткий абзац, в котором кратко изложите свои выводы и то, как, по вашему мнению, эти данные могут быть использованы в интересах Mycrunch при маркетинге CrunchieMunchies."
   ]
  },
  {
   "cell_type": "code",
   "execution_count": 167,
   "id": "c260fee9",
   "metadata": {},
   "outputs": [],
   "source": [
    "# Как по мне, самая полезная цифра тут - 96,7%, которая показывает то, у скольких конкурентов калорийность выше. Думаю, в маркетинговой компании стоит\n",
    "# делать упор именно на неё, также стоит отметить, что исследование было провдено среди 77 конкурентов. Можно как-то попробовать обыграть, что среднее \n",
    "# значение составляет 106, при этом чаще всего на полках встречаются продукты со 110.0 каллориями и выше.\n",
    "\n",
    "# что-то в таком духе\n",
    "# Откройте для себя новый путь к здоровому образу жизни с CrunchieMunchies!\n",
    "# После тщательного анализа 77 популярных брендов хлопьев мы обнаружили, что удивительные 96,7% из них оказались калорийнее, чем можно было предположить.\n",
    "# И здесь особенно интересный момент: средняя калорийность на полках составляет 106, а чаще всего встречаются продукты со 110.0 калориями и выше.\n",
    "# В ответ на это мы создали CrunchieMunchies - вкусные и полезные злаки с калорийностью всего 60 калорий в порции. Наши злаки станут легким шагом к вашему здоровью.\n",
    "# Не упустите возможность попробовать CrunchieMunchies и перейти на новый уровень заботы о себе!"
   ]
  }
 ],
 "metadata": {
  "kernelspec": {
   "display_name": "t2env",
   "language": "python",
   "name": "t2env"
  },
  "language_info": {
   "codemirror_mode": {
    "name": "ipython",
    "version": 3
   },
   "file_extension": ".py",
   "mimetype": "text/x-python",
   "name": "python",
   "nbconvert_exporter": "python",
   "pygments_lexer": "ipython3",
   "version": "3.11.4"
  }
 },
 "nbformat": 4,
 "nbformat_minor": 5
}
